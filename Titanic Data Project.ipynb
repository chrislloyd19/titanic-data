{
 "cells": [
  {
   "cell_type": "markdown",
   "metadata": {},
   "source": [
    "# A look into who survived the sinking of the Titanic\n",
    "\n",
    "This analysis explores a sample of Titanic passengers for various insights into who surived. It will answer the following question. Which factors made a passenger more likely to survive the sinking of the Titanic?\n",
    "\n",
    "It is a tentative work in progress."
   ]
  },
  {
   "cell_type": "code",
   "execution_count": 99,
   "metadata": {
    "collapsed": false
   },
   "outputs": [],
   "source": [
    "import pandas as pd\n",
    "import matplotlib.pyplot as plt\n",
    "\n",
    "def survival_pie_chart(survival_rate):\n",
    "    labels = 'Survived', 'Perished'\n",
    "    sizes = [survival_rate*100,(1-survival_rate)*100]\n",
    "    colors = [\"#c6e2ff\", \"#990000\"]\n",
    "    explode = (0, 0)\n",
    "\n",
    "    fig1, ax1 = plt.subplots()\n",
    "    ax1.pie(sizes, colors=colors, explode=explode, labels=labels, autopct='%1.1f%%',\n",
    "            shadow=True, startangle=90)\n",
    "    ax1.axis('equal')\n",
    "\n",
    "    plt.tight_layout()\n",
    "    plt.show()\n",
    "\n",
    "passenger_data = pd.read_csv('titanic-data.csv', index_col='PassengerId')\n",
    "\n",
    "#passenger_data.head(5)"
   ]
  },
  {
   "cell_type": "markdown",
   "metadata": {},
   "source": [
    "## Overall survival rate\n",
    "\n",
    "As an introduction to the analysis, here's the overall survival rate for the sample\n",
    "\n",
    "### 38.3% of passengers survived"
   ]
  },
  {
   "cell_type": "code",
   "execution_count": 100,
   "metadata": {
    "collapsed": false
   },
   "outputs": [
    {
     "name": "stdout",
     "output_type": "stream",
     "text": [
      "overall survival rate:\n",
      "0.383838383838\n"
     ]
    },
    {
     "data": {
      "image/png": "[encoded data removed]",
      "text/plain": [
       "<matplotlib.figure.Figure at 0x11889b150>"
      ]
     },
     "metadata": {},
     "output_type": "display_data"
    }
   ],
   "source": [
    "# note: for survival rate,\n",
    "#       it's safe to use the mean() value of the Survived column,\n",
    "#       since 1 represents survived and 0 represents didn't survive,\n",
    "#       and the mean simply adds those values up and divides by the total\n",
    "#       number of passengers\n",
    "\n",
    "overall_survival_rate = passenger_data.mean()['Survived']\n",
    "\n",
    "print \"overall survival rate:\"\n",
    "print passenger_data.mean()['Survived']\n",
    "\n",
    "survival_pie_chart(overall_survival_rate)"
   ]
  },
  {
   "cell_type": "markdown",
   "metadata": {},
   "source": [
    "## Survival rate by sex\n",
    "\n",
    "Obviously both males and females boarded the Titanic, here's their survival rate.\n",
    "\n",
    "### 74.2% of females survived\n",
    "\n",
    "### 18.9% of males survived"
   ]
  },
  {
   "cell_type": "code",
   "execution_count": 62,
   "metadata": {
    "collapsed": false
   },
   "outputs": [
    {
     "name": "stdout",
     "output_type": "stream",
     "text": [
      "Sex\n",
      "female    0.742038\n",
      "male      0.188908\n",
      "Name: Survived, dtype: float64\n"
     ]
    }
   ],
   "source": [
    "print passenger_data.groupby('Sex').mean()['Survived']"
   ]
  },
  {
   "cell_type": "markdown",
   "metadata": {},
   "source": [
    "## Survival rate by age\n",
    "\n",
    "This analysis breaks passengers into three age groups: children (0-14 years old), adolescents (14-20 years old), and adults (21+ years old). This is an arbitrary distinction that probably reflects a modern bias, but hopefully it yields equally interesting insights.\n",
    "\n",
    "### 58.4% of children survived\n",
    "\n",
    "### 36.3% of adolescents survived\n",
    "\n",
    "### 38.9% of adults survived"
   ]
  },
  {
   "cell_type": "code",
   "execution_count": 72,
   "metadata": {
    "collapsed": false
   },
   "outputs": [
    {
     "name": "stdout",
     "output_type": "stream",
     "text": [
      "age_group\n",
      "Children       0.584416\n",
      "Adolescents    0.362745\n",
      "Adults         0.388785\n",
      "Name: Survived, dtype: float64\n"
     ]
    }
   ],
   "source": [
    "# note: while the data has a number of empty values for age,\n",
    "#       the mean() function ignores those, so we can safely\n",
    "#       calculate it without modifying that column\n",
    "\n",
    "# data wrangling: added a new column 'age_group' to passenger_data\n",
    "#                 so that we can easily calculate the mean survival rate\n",
    "\n",
    "# define the bin values and group names\n",
    "bins = [0,14,20,100]\n",
    "group_names = ['Children', 'Adolescents', 'Adults']\n",
    "\n",
    "# create a new column 'age_group' and add it to the data\n",
    "age_group = pd.cut(passenger_data['Age'], bins, labels=group_names)\n",
    "passenger_data['age_group'] = age_group\n",
    "\n",
    "# get survival rate by age group\n",
    "print passenger_data.groupby('age_group').mean()['Survived']"
   ]
  },
  {
   "cell_type": "markdown",
   "metadata": {},
   "source": [
    "## Survival by ticket class\n",
    "\n",
    "Passengers could purchase three types of tickets to board the Titanic: first class, second class, and third class. Here's the breakdown of the survival rate by ticket class.\n",
    "\n",
    "### 62.9% of first class ticket holders survived\n",
    "\n",
    "### 47.3% of second class ticket holders survived\n",
    "\n",
    "### 24.2% of third class ticket holders survived"
   ]
  },
  {
   "cell_type": "code",
   "execution_count": 56,
   "metadata": {
    "collapsed": false
   },
   "outputs": [
    {
     "name": "stdout",
     "output_type": "stream",
     "text": [
      "Pclass\n",
      "1    0.629630\n",
      "2    0.472826\n",
      "3    0.242363\n",
      "Name: Survived, dtype: float64\n"
     ]
    }
   ],
   "source": [
    "print passenger_data.groupby('Pclass').mean()['Survived']"
   ]
  }
 ],
 "metadata": {
  "kernelspec": {
   "display_name": "Python [conda root]",
   "language": "python",
   "name": "conda-root-py"
  },
  "language_info": {
   "codemirror_mode": {
    "name": "ipython",
    "version": 2
   },
   "file_extension": ".py",
   "mimetype": "text/x-python",
   "name": "python",
   "nbconvert_exporter": "python",
   "pygments_lexer": "ipython2",
   "version": "2.7.13"
  }
 },
 "nbformat": 4,
 "nbformat_minor": 2
}
